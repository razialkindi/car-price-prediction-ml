{
  "nbformat": 4,
  "nbformat_minor": 0,
  "metadata": {
    "colab": {
      "provenance": []
    },
    "kernelspec": {
      "name": "python3",
      "display_name": "Python 3"
    },
    "language_info": {
      "name": "python"
    }
  },
  "cells": [
    {
      "cell_type": "markdown",
      "source": [
        "# PREDIKSI HARGA MOBIL BEKAS - MACHINE LEARNING TERAPAN"
      ],
      "metadata": {
        "id": "sqEP-RbZH9lT"
      }
    },
    {
      "cell_type": "markdown",
      "source": [
        "## 1. Import library yang dibutuhkan"
      ],
      "metadata": {
        "id": "R-0scPAnH_ql"
      }
    },
    {
      "cell_type": "code",
      "source": [
        "import pandas as pd                                                             # Untuk manipulasi dan analisis data\n",
        "import numpy as np                                                              # Untuk operasi numerik\n",
        "import matplotlib.pyplot as plt                                                 # Untuk visualisasi data\n",
        "import seaborn as sns                                                           # Untuk visualisasi data yang lebih canggih\n",
        "from sklearn.model_selection import train_test_split, GridSearchCV              # Untuk split data dan hyperparameter tuning\n",
        "from sklearn.preprocessing import StandardScaler, LabelEncoder                  # Untuk normalisasi fitur dan encoding\n",
        "from sklearn.linear_model import LinearRegression                               # Model regresi linear\n",
        "from sklearn.tree import DecisionTreeRegressor                                  # Model decision tree\n",
        "from sklearn.ensemble import RandomForestRegressor                              # Model random forest\n",
        "from sklearn.metrics import mean_absolute_error, mean_squared_error, r2_score   # Metrik evaluasi\n",
        "import warnings\n",
        "warnings.filterwarnings('ignore')                                               # Mematikan peringatan untuk tampilan yang lebih bersih"
      ],
      "metadata": {
        "id": "qQ_jB00LH4bS"
      },
      "execution_count": 2,
      "outputs": []
    },
    {
      "cell_type": "markdown",
      "source": [
        "## 2. Load Dataset dan Data Understanding\n"
      ],
      "metadata": {
        "id": "9bgoje55ILKG"
      }
    },
    {
      "cell_type": "code",
      "source": [
        "print(\"Loading dataset...\")\n",
        "# Dataset Car Price Prediction dari Kaggle\n",
        "url = \"https://www.kaggle.com/datasets/nehalbirla/vehicle-dataset-from-cardekho\"\n",
        "df = pd.read_csv(\"/content/car_data.csv\")"
      ],
      "metadata": {
        "colab": {
          "base_uri": "https://localhost:8080/"
        },
        "id": "ekIF6ka4INaP",
        "outputId": "4e0994da-5e18-4406-dbf1-0c1c6d179fbb"
      },
      "execution_count": 4,
      "outputs": [
        {
          "output_type": "stream",
          "name": "stdout",
          "text": [
            "Loading dataset...\n"
          ]
        }
      ]
    },
    {
      "cell_type": "markdown",
      "source": [
        "### Jumlah Data (Baris dan Kolom)\n"
      ],
      "metadata": {
        "id": "EtICSVZFIkGR"
      }
    },
    {
      "cell_type": "code",
      "source": [
        "print(f\"Shape: {df.shape}\")"
      ],
      "metadata": {
        "colab": {
          "base_uri": "https://localhost:8080/"
        },
        "id": "uqVk7kivIoaq",
        "outputId": "03438b18-cbb4-4aac-9bb6-16828eee0143"
      },
      "execution_count": 6,
      "outputs": [
        {
          "output_type": "stream",
          "name": "stdout",
          "text": [
            "Shape: (301, 9)\n"
          ]
        }
      ]
    },
    {
      "cell_type": "markdown",
      "source": [
        "Dataset memiliki 301 baris dan 9 kolom. Ini merupakan dataset yang cukup untuk analisis harga mobil bekas."
      ],
      "metadata": {
        "id": "ob9_tUvPIvTO"
      }
    },
    {
      "cell_type": "markdown",
      "source": [
        "### Tipe Data\n"
      ],
      "metadata": {
        "id": "U5x1E_8UI0Rv"
      }
    },
    {
      "cell_type": "code",
      "source": [
        "print(\"\\nData Types:\")\n",
        "print(df.dtypes)"
      ],
      "metadata": {
        "colab": {
          "base_uri": "https://localhost:8080/"
        },
        "id": "RT99z-XZI1-Q",
        "outputId": "1db5792a-335d-4888-c172-3ad243bc1b7e"
      },
      "execution_count": 7,
      "outputs": [
        {
          "output_type": "stream",
          "name": "stdout",
          "text": [
            "\n",
            "Data Types:\n",
            "Car_Name          object\n",
            "Year               int64\n",
            "Selling_Price    float64\n",
            "Present_Price    float64\n",
            "Kms_Driven         int64\n",
            "Fuel_Type         object\n",
            "Seller_Type       object\n",
            "Transmission      object\n",
            "Owner              int64\n",
            "dtype: object\n"
          ]
        }
      ]
    },
    {
      "cell_type": "markdown",
      "source": [
        "\n",
        "\n",
        "*   Kita perlu memahami tipe data dari setiap kolom untuk menentukan metode preprocessing yang sesuai.\n",
        "*   Tipe data numerik akan memerlukan normalisasi, sedangkan tipe data kategorikal memerlukan encoding.\n",
        "\n",
        "\n",
        "\n"
      ],
      "metadata": {
        "id": "og5HdCIWI3jT"
      }
    },
    {
      "cell_type": "markdown",
      "source": [
        "### Statistik Deskriptif\n"
      ],
      "metadata": {
        "id": "ZaOfIuuzI_t3"
      }
    },
    {
      "cell_type": "code",
      "source": [
        "print(\"\\n=== Statistical Summary ===\")\n",
        "print(df.describe())"
      ],
      "metadata": {
        "colab": {
          "base_uri": "https://localhost:8080/"
        },
        "id": "1TBpPg4tJBIC",
        "outputId": "e3dfcb99-319e-45af-9eac-07948e59ddf7"
      },
      "execution_count": 8,
      "outputs": [
        {
          "output_type": "stream",
          "name": "stdout",
          "text": [
            "\n",
            "=== Statistical Summary ===\n",
            "              Year  Selling_Price  Present_Price     Kms_Driven       Owner\n",
            "count   301.000000     301.000000     301.000000     301.000000  301.000000\n",
            "mean   2013.627907       4.661296       7.628472   36947.205980    0.043189\n",
            "std       2.891554       5.082812       8.644115   38886.883882    0.247915\n",
            "min    2003.000000       0.100000       0.320000     500.000000    0.000000\n",
            "25%    2012.000000       0.900000       1.200000   15000.000000    0.000000\n",
            "50%    2014.000000       3.600000       6.400000   32000.000000    0.000000\n",
            "75%    2016.000000       6.000000       9.900000   48767.000000    0.000000\n",
            "max    2018.000000      35.000000      92.600000  500000.000000    3.000000\n"
          ]
        }
      ]
    },
    {
      "cell_type": "markdown",
      "source": [
        "\n",
        "\n",
        "*   Statistik deskriptif membantu kita memahami distribusi dan rentang nilai dari setiap fitur.\n",
        "*   Informasi ini penting untuk mendeteksi outlier dan menentukan metode normalisasi yang tepat.\n",
        "\n"
      ],
      "metadata": {
        "id": "5dz5hlvvJCFa"
      }
    },
    {
      "cell_type": "markdown",
      "source": [
        "### Kondisi Data (Missing Value, Duplikat, Outlier)\n"
      ],
      "metadata": {
        "id": "0hIBul3sJI-n"
      }
    },
    {
      "cell_type": "code",
      "source": [
        "print(\"\\n=== Check Missing Values ===\")\n",
        "print(df.isnull().sum())\n",
        "\n",
        "print(\"\\n=== Check Duplicate Values ===\")\n",
        "print(f\"Duplicate rows: {df.duplicated().sum()}\")"
      ],
      "metadata": {
        "colab": {
          "base_uri": "https://localhost:8080/"
        },
        "id": "_87LweJZJLFx",
        "outputId": "44a2cd15-dbef-433d-df3a-81009f482e03"
      },
      "execution_count": 9,
      "outputs": [
        {
          "output_type": "stream",
          "name": "stdout",
          "text": [
            "\n",
            "=== Check Missing Values ===\n",
            "Car_Name         0\n",
            "Year             0\n",
            "Selling_Price    0\n",
            "Present_Price    0\n",
            "Kms_Driven       0\n",
            "Fuel_Type        0\n",
            "Seller_Type      0\n",
            "Transmission     0\n",
            "Owner            0\n",
            "dtype: int64\n",
            "\n",
            "=== Check Duplicate Values ===\n",
            "Duplicate rows: 2\n"
          ]
        }
      ]
    },
    {
      "cell_type": "markdown",
      "source": [
        "\n",
        "\n",
        "*   Berdasarkan hasil pengecekan, kita akan melihat apakah ada nilai yang hilang atau data duplikat yang perlu ditangani pada tahap preprocessing."
      ],
      "metadata": {
        "id": "ZLI4IukYJM7S"
      }
    },
    {
      "cell_type": "markdown",
      "source": [
        "### Uraian Fitur pada Data\n"
      ],
      "metadata": {
        "id": "m9AX3XljJbSv"
      }
    },
    {
      "cell_type": "code",
      "source": [
        "print(\"\\n=== Dataset Info ===\")\n",
        "print(df.info())"
      ],
      "metadata": {
        "colab": {
          "base_uri": "https://localhost:8080/"
        },
        "id": "NGhYcfcYJdtl",
        "outputId": "33374159-5b45-4be3-ab17-f3a14811ff9f"
      },
      "execution_count": 10,
      "outputs": [
        {
          "output_type": "stream",
          "name": "stdout",
          "text": [
            "\n",
            "=== Dataset Info ===\n",
            "<class 'pandas.core.frame.DataFrame'>\n",
            "RangeIndex: 301 entries, 0 to 300\n",
            "Data columns (total 9 columns):\n",
            " #   Column         Non-Null Count  Dtype  \n",
            "---  ------         --------------  -----  \n",
            " 0   Car_Name       301 non-null    object \n",
            " 1   Year           301 non-null    int64  \n",
            " 2   Selling_Price  301 non-null    float64\n",
            " 3   Present_Price  301 non-null    float64\n",
            " 4   Kms_Driven     301 non-null    int64  \n",
            " 5   Fuel_Type      301 non-null    object \n",
            " 6   Seller_Type    301 non-null    object \n",
            " 7   Transmission   301 non-null    object \n",
            " 8   Owner          301 non-null    int64  \n",
            "dtypes: float64(2), int64(3), object(4)\n",
            "memory usage: 21.3+ KB\n",
            "None\n"
          ]
        }
      ]
    },
    {
      "cell_type": "markdown",
      "source": [
        "\n",
        "\n",
        "\n",
        "\n",
        "Dataset ini berisi data penjualan mobil bekas yang mencakup fitur-fitur berikut:\n",
        "\n",
        "- Car_Name: Nama/model mobil\n",
        "- Year: Tahun pembuatan mobil\n",
        "- Selling_Price: Harga jual (target)\n",
        "- Present_Price: Harga saat ini di showroom\n",
        "- Kms_Driven: Jarak tempuh dalam kilometer\n",
        "- Fuel_Type: Jenis bahan bakar (Petrol/Diesel/CNG)\n",
        "- Seller_Type: Jenis penjual (Dealer/Individual)\n",
        "- Transmission: Jenis transmisi (Manual/Automatic)\n",
        "- Owner: Jumlah pemilik sebelumnya\n"
      ],
      "metadata": {
        "id": "BsqoCxhRJf7v"
      }
    },
    {
      "cell_type": "markdown",
      "source": [
        "## 3. Exploratory Data Analysis (EDA)"
      ],
      "metadata": {
        "id": "jkBFylXlJxYt"
      }
    },
    {
      "cell_type": "markdown",
      "source": [
        "### Visualisasi Distribusi Harga Mobil\n"
      ],
      "metadata": {
        "id": "A5Xxk-1nJyww"
      }
    },
    {
      "cell_type": "code",
      "source": [
        "plt.figure(figsize=(15, 10))\n",
        "\n",
        "plt.subplot(2, 3, 1)\n",
        "sns.histplot(df['Selling_Price'], kde=True, bins=30)\n",
        "plt.title('Distribusi Harga Jual Mobil')\n",
        "plt.xlabel('Harga Jual (Lakh)')"
      ],
      "metadata": {
        "colab": {
          "base_uri": "https://localhost:8080/",
          "height": 469
        },
        "id": "F6Nkm2reJwTU",
        "outputId": "7739f7db-e795-418f-b8f4-5cd277126ebc"
      },
      "execution_count": 12,
      "outputs": [
        {
          "output_type": "execute_result",
          "data": {
            "text/plain": [
              "Text(0.5, 0, 'Harga Jual (Lakh)')"
            ]
          },
          "metadata": {},
          "execution_count": 12
        },
        {
          "output_type": "display_data",
          "data": {
            "text/plain": [
              "<Figure size 1500x1000 with 1 Axes>"
            ],
            "image/png": "[encoded data removed]"
          },
          "metadata": {}
        }
      ]
    },
    {
      "cell_type": "markdown",
      "source": [
        "- Dari histogram, kita dapat melihat distribusi harga jual mobil bekas.\n",
        "- Mayoritas mobil memiliki harga di bawah 10 lakh, dengan beberapa mobil mewah yang memiliki harga tinggi."
      ],
      "metadata": {
        "id": "ww-no1afJ2ax"
      }
    },
    {
      "cell_type": "markdown",
      "source": [
        "### Hubungan antara Tahun dan Harga"
      ],
      "metadata": {
        "id": "YALbTO47J5J1"
      }
    },
    {
      "cell_type": "code",
      "source": [
        "plt.subplot(2, 3, 2)\n",
        "sns.scatterplot(x='Year', y='Selling_Price', data=df)\n",
        "plt.title('Harga vs. Tahun Pembuatan')\n",
        "plt.xlabel('Tahun')\n",
        "plt.ylabel('Harga Jual (Lakh)')"
      ],
      "metadata": {
        "colab": {
          "base_uri": "https://localhost:8080/",
          "height": 287
        },
        "id": "aEHUzrXLJ6D4",
        "outputId": "5e8f92b6-41ed-4e87-df12-b723aaeff6d6"
      },
      "execution_count": 13,
      "outputs": [
        {
          "output_type": "execute_result",
          "data": {
            "text/plain": [
              "Text(0, 0.5, 'Harga Jual (Lakh)')"
            ]
          },
          "metadata": {},
          "execution_count": 13
        },
        {
          "output_type": "display_data",
          "data": {
            "text/plain": [
              "<Figure size 640x480 with 1 Axes>"
            ],
            "image/png": "[encoded data removed]"
          },
          "metadata": {}
        }
      ]
    },
    {
      "cell_type": "markdown",
      "source": [
        "- Scatter plot menunjukkan korelasi positif antara tahun pembuatan dan harga jual.\n",
        "- Mobil yang lebih baru cenderung memiliki harga yang lebih tinggi."
      ],
      "metadata": {
        "id": "m_8z1_wTJ7d2"
      }
    },
    {
      "cell_type": "markdown",
      "source": [
        "### Hubungan antara Kilometer dan Harga"
      ],
      "metadata": {
        "id": "snOYLotDJ-q2"
      }
    },
    {
      "cell_type": "code",
      "source": [
        "plt.subplot(2, 3, 3)\n",
        "sns.scatterplot(x='Kms_Driven', y='Selling_Price', data=df)\n",
        "plt.title('Harga vs. Kilometer Tempuh')\n",
        "plt.xlabel('Kilometer Tempuh')\n",
        "plt.ylabel('Harga Jual (Lakh)')"
      ],
      "metadata": {
        "colab": {
          "base_uri": "https://localhost:8080/",
          "height": 287
        },
        "id": "R_JzGrU1J-c4",
        "outputId": "24369498-24af-450d-a6fa-3bd84e549e33"
      },
      "execution_count": 14,
      "outputs": [
        {
          "output_type": "execute_result",
          "data": {
            "text/plain": [
              "Text(0, 0.5, 'Harga Jual (Lakh)')"
            ]
          },
          "metadata": {},
          "execution_count": 14
        },
        {
          "output_type": "display_data",
          "data": {
            "text/plain": [
              "<Figure size 640x480 with 1 Axes>"
            ],
            "image/png": "[encoded data removed]"
          },
          "metadata": {}
        }
      ]
    },
    {
      "cell_type": "markdown",
      "source": [
        "- Scatter plot menunjukkan korelasi negatif antara kilometer tempuh dan harga jual.\n",
        "- Mobil dengan kilometer lebih rendah cenderung memiliki harga yang lebih tinggi."
      ],
      "metadata": {
        "id": "s4NpM9jUKBnr"
      }
    },
    {
      "cell_type": "markdown",
      "source": [
        "### Distribusi berdasarkan Jenis Bahan Bakar\n"
      ],
      "metadata": {
        "id": "I0sTfUWPKEyf"
      }
    },
    {
      "cell_type": "code",
      "source": [
        "plt.subplot(2, 3, 4)\n",
        "sns.boxplot(x='Fuel_Type', y='Selling_Price', data=df)\n",
        "plt.title('Harga berdasarkan Jenis Bahan Bakar')\n",
        "plt.xlabel('Jenis Bahan Bakar')\n",
        "plt.ylabel('Harga Jual (Lakh)')"
      ],
      "metadata": {
        "colab": {
          "base_uri": "https://localhost:8080/",
          "height": 287
        },
        "id": "-epU72_JJ-aV",
        "outputId": "4c55525b-b0b4-4ca7-a182-1be6c426b683"
      },
      "execution_count": 15,
      "outputs": [
        {
          "output_type": "execute_result",
          "data": {
            "text/plain": [
              "Text(0, 0.5, 'Harga Jual (Lakh)')"
            ]
          },
          "metadata": {},
          "execution_count": 15
        },
        {
          "output_type": "display_data",
          "data": {
            "text/plain": [
              "<Figure size 640x480 with 1 Axes>"
            ],
            "image/png": "[encoded data removed]"
          },
          "metadata": {}
        }
      ]
    },
    {
      "cell_type": "markdown",
      "source": [
        "### Distribusi berdasarkan Jenis Transmisi"
      ],
      "metadata": {
        "id": "WVYSDuhcKHCg"
      }
    },
    {
      "cell_type": "code",
      "source": [
        "plt.subplot(2, 3, 5)\n",
        "sns.boxplot(x='Transmission', y='Selling_Price', data=df)\n",
        "plt.title('Harga berdasarkan Jenis Transmisi')\n",
        "plt.xlabel('Jenis Transmisi')\n",
        "plt.ylabel('Harga Jual (Lakh)')"
      ],
      "metadata": {
        "colab": {
          "base_uri": "https://localhost:8080/",
          "height": 287
        },
        "id": "LhVonEbpKIW3",
        "outputId": "11f06dcb-e3c4-484e-8d27-a8522ac5e232"
      },
      "execution_count": 16,
      "outputs": [
        {
          "output_type": "execute_result",
          "data": {
            "text/plain": [
              "Text(0, 0.5, 'Harga Jual (Lakh)')"
            ]
          },
          "metadata": {},
          "execution_count": 16
        },
        {
          "output_type": "display_data",
          "data": {
            "text/plain": [
              "<Figure size 640x480 with 1 Axes>"
            ],
            "image/png": "[encoded data removed]"
          },
          "metadata": {}
        }
      ]
    },
    {
      "cell_type": "markdown",
      "source": [
        "### Distribusi berdasarkan Jenis Penjual"
      ],
      "metadata": {
        "id": "odvK58MBKKA7"
      }
    },
    {
      "cell_type": "code",
      "source": [
        "plt.subplot(2, 3, 6)\n",
        "sns.boxplot(x='Seller_Type', y='Selling_Price', data=df)\n",
        "plt.title('Harga berdasarkan Jenis Penjual')\n",
        "plt.xlabel('Jenis Penjual')\n",
        "plt.ylabel('Harga Jual (Lakh)')\n",
        "\n",
        "plt.tight_layout()\n",
        "plt.show()"
      ],
      "metadata": {
        "colab": {
          "base_uri": "https://localhost:8080/",
          "height": 287
        },
        "id": "rH2CY1nZKLZO",
        "outputId": "9ff11d51-1af4-4d7d-ca45-8718f8d77d15"
      },
      "execution_count": 17,
      "outputs": [
        {
          "output_type": "display_data",
          "data": {
            "text/plain": [
              "<Figure size 640x480 with 1 Axes>"
            ],
            "image/png": "[encoded data removed]"
          },
          "metadata": {}
        }
      ]
    },
    {
      "cell_type": "markdown",
      "source": [
        "### Matriks Korelasi"
      ],
      "metadata": {
        "id": "ri6-aGMjKNDH"
      }
    },
    {
      "cell_type": "code",
      "source": [
        "plt.figure(figsize=(10, 8))\n",
        "# Ambil hanya kolom numerik\n",
        "numerical_df = df.select_dtypes(include=['number'])\n",
        "\n",
        "# Hitung korelasi hanya untuk kolom numerik\n",
        "correlation = numerical_df.corr()\n",
        "\n",
        "# Buat mask segitiga atas\n",
        "mask = np.triu(np.ones_like(correlation, dtype=bool))\n",
        "\n",
        "# Plot heatmap\n",
        "sns.heatmap(correlation, annot=True, cmap='coolwarm', fmt='.2f', mask=mask)\n",
        "plt.title('Correlation Heatmap')\n",
        "plt.show()\n"
      ],
      "metadata": {
        "colab": {
          "base_uri": "https://localhost:8080/",
          "height": 699
        },
        "id": "qZ1nIbeQKNvR",
        "outputId": "21499243-7c8d-4c2d-f14f-27c5b64f6645"
      },
      "execution_count": 18,
      "outputs": [
        {
          "output_type": "display_data",
          "data": {
            "text/plain": [
              "<Figure size 1000x800 with 2 Axes>"
            ],
            "image/png": "[encoded data removed]"
          },
          "metadata": {}
        }
      ]
    },
    {
      "cell_type": "markdown",
      "source": [
        "Dari heatmap korelasi, fitur-fitur yang memiliki korelasi tinggi dengan harga jual adalah:\n",
        "- Present_Price (harga showroom saat ini)\n",
        "- Year (tahun pembuatan)\n",
        "- Kms_Driven (kilometer tempuh) - korelasi negatif"
      ],
      "metadata": {
        "id": "Bo91aAyZKRn1"
      }
    },
    {
      "cell_type": "markdown",
      "source": [
        "### Analisis Categorical Features"
      ],
      "metadata": {
        "id": "TscL4KY_KWE5"
      }
    },
    {
      "cell_type": "code",
      "source": [
        "plt.figure(figsize=(15, 5))\n",
        "\n",
        "plt.subplot(1, 3, 1)\n",
        "df['Fuel_Type'].value_counts().plot(kind='bar')\n",
        "plt.title('Distribusi Jenis Bahan Bakar')\n",
        "plt.xticks(rotation=45)\n",
        "\n",
        "plt.subplot(1, 3, 2)\n",
        "df['Seller_Type'].value_counts().plot(kind='bar')\n",
        "plt.title('Distribusi Jenis Penjual')\n",
        "plt.xticks(rotation=45)\n",
        "\n",
        "plt.subplot(1, 3, 3)\n",
        "df['Transmission'].value_counts().plot(kind='bar')\n",
        "plt.title('Distribusi Jenis Transmisi')\n",
        "plt.xticks(rotation=45)\n",
        "\n",
        "plt.tight_layout()\n",
        "plt.show()"
      ],
      "metadata": {
        "colab": {
          "base_uri": "https://localhost:8080/",
          "height": 383
        },
        "id": "pxyUGGC6KY30",
        "outputId": "cc09ae1a-10a4-4e59-9de1-13ab08a48692"
      },
      "execution_count": 19,
      "outputs": [
        {
          "output_type": "display_data",
          "data": {
            "text/plain": [
              "<Figure size 1500x500 with 3 Axes>"
            ],
            "image/png": "[encoded data removed]"
          },
          "metadata": {}
        }
      ]
    },
    {
      "cell_type": "markdown",
      "source": [
        "## 4. Data Preparation"
      ],
      "metadata": {
        "id": "jqzlZ0l1KbEY"
      }
    },
    {
      "cell_type": "markdown",
      "source": [
        "### 4.1 Handling Missing Values\n"
      ],
      "metadata": {
        "id": "uoYEpf8xKcQK"
      }
    },
    {
      "cell_type": "code",
      "source": [
        "print(\"Checking and handling missing values...\")\n",
        "print(df.isnull().sum())"
      ],
      "metadata": {
        "colab": {
          "base_uri": "https://localhost:8080/"
        },
        "id": "FxAIG88pKd6e",
        "outputId": "d47b54d5-2122-4bda-a682-6ecf3f1615a2"
      },
      "execution_count": 20,
      "outputs": [
        {
          "output_type": "stream",
          "name": "stdout",
          "text": [
            "Checking and handling missing values...\n",
            "Car_Name         0\n",
            "Year             0\n",
            "Selling_Price    0\n",
            "Present_Price    0\n",
            "Kms_Driven       0\n",
            "Fuel_Type        0\n",
            "Seller_Type      0\n",
            "Transmission     0\n",
            "Owner            0\n",
            "dtype: int64\n"
          ]
        }
      ]
    },
    {
      "cell_type": "markdown",
      "source": [
        "- Jika ada missing values, kita akan mengatasinya sesuai dengan karakteristik masing-masing kolom\n"
      ],
      "metadata": {
        "id": "4quwlqTlKfDm"
      }
    },
    {
      "cell_type": "markdown",
      "source": [
        "### 4.2 Feature Engineering"
      ],
      "metadata": {
        "id": "kyQyfKe3KguQ"
      }
    },
    {
      "cell_type": "code",
      "source": [
        "print(\"Creating new features...\")\n",
        "\n",
        "# Age of the car (umur mobil)\n",
        "df['Car_Age'] = 2024 - df['Year']\n",
        "\n",
        "# Depreciation rate (tingkat depresiasi)\n",
        "df['Depreciation_Rate'] = (df['Present_Price'] - df['Selling_Price']) / df['Present_Price']\n",
        "\n",
        "# Price per km (harga per kilometer)\n",
        "df['Price_per_km'] = df['Selling_Price'] / (df['Kms_Driven'] + 1)  # +1 untuk menghindari pembagian dengan 0\n",
        "\n",
        "# Mileage category (kategori kilometer tempuh)\n",
        "df['Mileage_Category'] = pd.cut(df['Kms_Driven'],\n",
        "                               bins=[0, 20000, 50000, 100000, float('inf')],\n",
        "                               labels=['Low', 'Medium', 'High', 'Very High'])\n",
        "\n",
        "print(\"New features created successfully!\")"
      ],
      "metadata": {
        "colab": {
          "base_uri": "https://localhost:8080/"
        },
        "id": "HWAjOzjyKje6",
        "outputId": "2e7819f6-9231-4178-bf3b-8fdeeecea71d"
      },
      "execution_count": 21,
      "outputs": [
        {
          "output_type": "stream",
          "name": "stdout",
          "text": [
            "Creating new features...\n",
            "New features created successfully!\n"
          ]
        }
      ]
    },
    {
      "cell_type": "markdown",
      "source": [
        "Untuk meningkatkan performa model, kita membuat beberapa fitur baru:\n",
        "- 'Car_Age': umur mobil berdasarkan tahun pembuatan\n",
        "- 'Depreciation_Rate': tingkat depresiasi dari harga showroom\n",
        "- 'Price_per_km': harga per kilometer tempuh\n",
        "- 'Mileage_Category': kategori berdasarkan kilometer tempuh\n"
      ],
      "metadata": {
        "id": "EBSxRq5VKlQU"
      }
    },
    {
      "cell_type": "markdown",
      "source": [
        "### 4.3 Handling Outliers\n"
      ],
      "metadata": {
        "id": "mhqi9Dz1KpkI"
      }
    },
    {
      "cell_type": "code",
      "source": [
        "# Remove price outliers using IQR method\n",
        "Q1 = df['Selling_Price'].quantile(0.25)\n",
        "Q3 = df['Selling_Price'].quantile(0.75)\n",
        "IQR = Q3 - Q1\n",
        "\n",
        "lower_bound = Q1 - 1.5 * IQR\n",
        "upper_bound = Q3 + 1.5 * IQR\n",
        "\n",
        "print(f\"Original dataset size: {len(df)}\")\n",
        "df_clean = df[(df['Selling_Price'] >= lower_bound) & (df['Selling_Price'] <= upper_bound)]\n",
        "print(f\"Dataset size after outlier removal: {len(df_clean)}\")"
      ],
      "metadata": {
        "colab": {
          "base_uri": "https://localhost:8080/"
        },
        "id": "FIkJlO7ZKsRA",
        "outputId": "9911b4a5-48e7-4cc8-b06c-0488ef809a2b"
      },
      "execution_count": 22,
      "outputs": [
        {
          "output_type": "stream",
          "name": "stdout",
          "text": [
            "Original dataset size: 301\n",
            "Dataset size after outlier removal: 284\n"
          ]
        }
      ]
    },
    {
      "cell_type": "markdown",
      "source": [
        "- Untuk menangani outlier pada harga mobil, kita menggunakan metode IQR (Interquartile Range).\n",
        "- Data yang berada di luar range (Q1 - 1.5*IQR) hingga (Q3 + 1.5*IQR) dianggap sebagai outlier dan dihapus."
      ],
      "metadata": {
        "id": "2fnhmZ6KKyPE"
      }
    },
    {
      "cell_type": "markdown",
      "source": [
        "### 4.4 Encoding Categorical Variables"
      ],
      "metadata": {
        "id": "KnGKvaFTK00q"
      }
    },
    {
      "cell_type": "code",
      "source": [
        "print(\"Encoding categorical variables...\")\n",
        "\n",
        "# Label encoding untuk variabel ordinal\n",
        "le_fuel = LabelEncoder()\n",
        "le_seller = LabelEncoder()\n",
        "le_transmission = LabelEncoder()\n",
        "le_mileage = LabelEncoder()\n",
        "\n",
        "df_clean['Fuel_Type_Encoded'] = le_fuel.fit_transform(df_clean['Fuel_Type'])\n",
        "df_clean['Seller_Type_Encoded'] = le_seller.fit_transform(df_clean['Seller_Type'])\n",
        "df_clean['Transmission_Encoded'] = le_transmission.fit_transform(df_clean['Transmission'])\n",
        "df_clean['Mileage_Category_Encoded'] = le_mileage.fit_transform(df_clean['Mileage_Category'])\n",
        "\n",
        "# One-hot encoding untuk Car_Name (brand)\n",
        "df_clean['Car_Brand'] = df_clean['Car_Name'].str.split().str[0]\n",
        "df_encoded = pd.get_dummies(df_clean, columns=['Car_Brand'], prefix='Brand')\n",
        "\n",
        "print(\"Categorical encoding completed!\")"
      ],
      "metadata": {
        "colab": {
          "base_uri": "https://localhost:8080/"
        },
        "id": "-PlFRsL3K28I",
        "outputId": "5a5fe2cc-110a-43d9-fbe6-5d8b7bbcfef3"
      },
      "execution_count": 23,
      "outputs": [
        {
          "output_type": "stream",
          "name": "stdout",
          "text": [
            "Encoding categorical variables...\n",
            "Categorical encoding completed!\n"
          ]
        }
      ]
    },
    {
      "cell_type": "markdown",
      "source": [
        "### 4.5 Feature Selection"
      ],
      "metadata": {
        "id": "EnyfzHQVK5DI"
      }
    },
    {
      "cell_type": "code",
      "source": [
        "# Pilih fitur yang akan digunakan untuk modeling\n",
        "feature_columns = ['Year', 'Present_Price', 'Kms_Driven', 'Owner', 'Car_Age',\n",
        "                  'Depreciation_Rate', 'Price_per_km', 'Fuel_Type_Encoded',\n",
        "                  'Seller_Type_Encoded', 'Transmission_Encoded', 'Mileage_Category_Encoded']\n",
        "\n",
        "# Tambahkan kolom brand yang sudah di-encode\n",
        "brand_columns = [col for col in df_encoded.columns if col.startswith('Brand_')]\n",
        "feature_columns.extend(brand_columns[:10])  # Ambil 10 brand teratas\n",
        "\n",
        "# Buat correlation matrix untuk feature selection\n",
        "corr_with_target = df_encoded[feature_columns + ['Selling_Price']].corr()['Selling_Price'].abs().sort_values(ascending=False)\n",
        "print(\"\\nTop features by correlation with Selling_Price:\")\n",
        "print(corr_with_target.head(10))"
      ],
      "metadata": {
        "colab": {
          "base_uri": "https://localhost:8080/"
        },
        "id": "Fo5qgLUpK7q3",
        "outputId": "8a3d471b-48a9-4901-c49f-11cff250c22a"
      },
      "execution_count": 24,
      "outputs": [
        {
          "output_type": "stream",
          "name": "stdout",
          "text": [
            "\n",
            "Top features by correlation with Selling_Price:\n",
            "Selling_Price          1.000000\n",
            "Present_Price          0.801950\n",
            "Seller_Type_Encoded    0.750623\n",
            "Fuel_Type_Encoded      0.421596\n",
            "Price_per_km           0.351048\n",
            "Brand_Bajaj            0.324781\n",
            "Depreciation_Rate      0.289842\n",
            "Car_Age                0.279578\n",
            "Year                   0.279578\n",
            "Brand_Honda            0.271217\n",
            "Name: Selling_Price, dtype: float64\n"
          ]
        }
      ]
    },
    {
      "cell_type": "markdown",
      "source": [
        "### 4.6 Feature Scaling"
      ],
      "metadata": {
        "id": "AORLiZU-K9WQ"
      }
    },
    {
      "cell_type": "code",
      "source": [
        "# Pilih fitur numerik untuk scaling\n",
        "numeric_features = ['Year', 'Present_Price', 'Kms_Driven', 'Owner', 'Car_Age',\n",
        "                   'Depreciation_Rate', 'Price_per_km']\n",
        "\n",
        "scaler = StandardScaler()\n",
        "df_encoded[numeric_features] = scaler.fit_transform(df_encoded[numeric_features])\n",
        "\n",
        "print(\"Feature scaling completed!\")"
      ],
      "metadata": {
        "colab": {
          "base_uri": "https://localhost:8080/"
        },
        "id": "qxQ-ckmZK-9R",
        "outputId": "c069daff-4261-4b91-ee1a-f187f1e5668a"
      },
      "execution_count": 25,
      "outputs": [
        {
          "output_type": "stream",
          "name": "stdout",
          "text": [
            "Feature scaling completed!\n"
          ]
        }
      ]
    },
    {
      "cell_type": "markdown",
      "source": [
        "- Normalisasi fitur numeric dilakukan menggunakan StandardScaler dari sklearn.\n",
        "- Proses ini penting karena beberapa algoritma machine learning sensitif terhadap skala fitur."
      ],
      "metadata": {
        "id": "2WSDQPe0LBT4"
      }
    },
    {
      "cell_type": "markdown",
      "source": [
        "### 4.7 Final Dataset Preparation"
      ],
      "metadata": {
        "id": "zbif1Wv3LDWP"
      }
    },
    {
      "cell_type": "code",
      "source": [
        "# Prepare final features\n",
        "final_features = feature_columns\n",
        "X = df_encoded[final_features]\n",
        "y = df_encoded['Selling_Price']\n",
        "\n",
        "print(f\"Final dataset shape: {X.shape}\")\n",
        "print(f\"Target variable shape: {y.shape}\")"
      ],
      "metadata": {
        "colab": {
          "base_uri": "https://localhost:8080/"
        },
        "id": "uxAB-iYsLFK-",
        "outputId": "9d4948dd-51dc-47be-9bc5-6b794e4faf4e"
      },
      "execution_count": 26,
      "outputs": [
        {
          "output_type": "stream",
          "name": "stdout",
          "text": [
            "Final dataset shape: (284, 21)\n",
            "Target variable shape: (284,)\n"
          ]
        }
      ]
    },
    {
      "cell_type": "markdown",
      "source": [
        "### 4.8 Split Data"
      ],
      "metadata": {
        "id": "Br8h0pZ3LGb0"
      }
    },
    {
      "cell_type": "code",
      "source": [
        "X_train, X_test, y_train, y_test = train_test_split(X, y, test_size=0.2, random_state=42)\n",
        "\n",
        "print(f\"Training set size: {X_train.shape}\")\n",
        "print(f\"Test set size: {X_test.shape}\")"
      ],
      "metadata": {
        "colab": {
          "base_uri": "https://localhost:8080/"
        },
        "id": "a--rA5eELHyq",
        "outputId": "e654631a-dff4-4f80-e1ae-b806f1b26445"
      },
      "execution_count": 27,
      "outputs": [
        {
          "output_type": "stream",
          "name": "stdout",
          "text": [
            "Training set size: (227, 21)\n",
            "Test set size: (57, 21)\n"
          ]
        }
      ]
    },
    {
      "cell_type": "markdown",
      "source": [
        "- Data dibagi menjadi data training (80%) dan data testing (20%) dengan random_state=42\n",
        "- untuk memastikan hasil yang konsisten dan dapat direproduksi."
      ],
      "metadata": {
        "id": "wgzHko-aLJO_"
      }
    },
    {
      "cell_type": "markdown",
      "source": [
        "## 5. Model Development"
      ],
      "metadata": {
        "id": "HtH7DOziLMhA"
      }
    },
    {
      "cell_type": "markdown",
      "source": [
        "### 5.1 Model 1: Linear Regression"
      ],
      "metadata": {
        "id": "4wHZnLihLOcj"
      }
    },
    {
      "cell_type": "code",
      "source": [
        "print(\"Training Linear Regression model...\")\n",
        "lr_model = LinearRegression()\n",
        "lr_model.fit(X_train, y_train)"
      ],
      "metadata": {
        "colab": {
          "base_uri": "https://localhost:8080/",
          "height": 97
        },
        "id": "XxThoU2OLLho",
        "outputId": "45fcefb1-e368-42ad-b373-641779ca0724"
      },
      "execution_count": 28,
      "outputs": [
        {
          "output_type": "stream",
          "name": "stdout",
          "text": [
            "Training Linear Regression model...\n"
          ]
        },
        {
          "output_type": "execute_result",
          "data": {
            "text/plain": [
              "LinearRegression()"
            ],
            "text/html": [
              "<style>#sk-container-id-1 {\n",
              "  /* Definition of color scheme common for light and dark mode */\n",
              "  --sklearn-color-text: #000;\n",
              "  --sklearn-color-text-muted: #666;\n",
              "  --sklearn-color-line: gray;\n",
              "  /* Definition of color scheme for unfitted estimators */\n",
              "  --sklearn-color-unfitted-level-0: #fff5e6;\n",
              "  --sklearn-color-unfitted-level-1: #f6e4d2;\n",
              "  --sklearn-color-unfitted-level-2: #ffe0b3;\n",
              "  --sklearn-color-unfitted-level-3: chocolate;\n",
              "  /* Definition of color scheme for fitted estimators */\n",
              "  --sklearn-color-fitted-level-0: #f0f8ff;\n",
              "  --sklearn-color-fitted-level-1: #d4ebff;\n",
              "  --sklearn-color-fitted-level-2: #b3dbfd;\n",
              "  --sklearn-color-fitted-level-3: cornflowerblue;\n",
              "\n",
              "  /* Specific color for light theme */\n",
              "  --sklearn-color-text-on-default-background: var(--sg-text-color, var(--theme-code-foreground, var(--jp-content-font-color1, black)));\n",
              "  --sklearn-color-background: var(--sg-background-color, var(--theme-background, var(--jp-layout-color0, white)));\n",
              "  --sklearn-color-border-box: var(--sg-text-color, var(--theme-code-foreground, var(--jp-content-font-color1, black)));\n",
              "  --sklearn-color-icon: #696969;\n",
              "\n",
              "  @media (prefers-color-scheme: dark) {\n",
              "    /* Redefinition of color scheme for dark theme */\n",
              "    --sklearn-color-text-on-default-background: var(--sg-text-color, var(--theme-code-foreground, var(--jp-content-font-color1, white)));\n",
              "    --sklearn-color-background: var(--sg-background-color, var(--theme-background, var(--jp-layout-color0, #111)));\n",
              "    --sklearn-color-border-box: var(--sg-text-color, var(--theme-code-foreground, var(--jp-content-font-color1, white)));\n",
              "    --sklearn-color-icon: #878787;\n",
              "  }\n",
              "}\n",
              "\n",
              "#sk-container-id-1 {\n",
              "  color: var(--sklearn-color-text);\n",
              "}\n",
              "\n",
              "#sk-container-id-1 pre {\n",
              "  padding: 0;\n",
              "}\n",
              "\n",
              "#sk-container-id-1 input.sk-hidden--visually {\n",
              "  border: 0;\n",
              "  clip: rect(1px 1px 1px 1px);\n",
              "  clip: rect(1px, 1px, 1px, 1px);\n",
              "  height: 1px;\n",
              "  margin: -1px;\n",
              "  overflow: hidden;\n",
              "  padding: 0;\n",
              "  position: absolute;\n",
              "  width: 1px;\n",
              "}\n",
              "\n",
              "#sk-container-id-1 div.sk-dashed-wrapped {\n",
              "  border: 1px dashed var(--sklearn-color-line);\n",
              "  margin: 0 0.4em 0.5em 0.4em;\n",
              "  box-sizing: border-box;\n",
              "  padding-bottom: 0.4em;\n",
              "  background-color: var(--sklearn-color-background);\n",
              "}\n",
              "\n",
              "#sk-container-id-1 div.sk-container {\n",
              "  /* jupyter's `normalize.less` sets `[hidden] { display: none; }`\n",
              "     but bootstrap.min.css set `[hidden] { display: none !important; }`\n",
              "     so we also need the `!important` here to be able to override the\n",
              "     default hidden behavior on the sphinx rendered scikit-learn.org.\n",
              "     See: https://github.com/scikit-learn/scikit-learn/issues/21755 */\n",
              "  display: inline-block !important;\n",
              "  position: relative;\n",
              "}\n",
              "\n",
              "#sk-container-id-1 div.sk-text-repr-fallback {\n",
              "  display: none;\n",
              "}\n",
              "\n",
              "div.sk-parallel-item,\n",
              "div.sk-serial,\n",
              "div.sk-item {\n",
              "  /* draw centered vertical line to link estimators */\n",
              "  background-image: linear-gradient(var(--sklearn-color-text-on-default-background), var(--sklearn-color-text-on-default-background));\n",
              "  background-size: 2px 100%;\n",
              "  background-repeat: no-repeat;\n",
              "  background-position: center center;\n",
              "}\n",
              "\n",
              "/* Parallel-specific style estimator block */\n",
              "\n",
              "#sk-container-id-1 div.sk-parallel-item::after {\n",
              "  content: \"\";\n",
              "  width: 100%;\n",
              "  border-bottom: 2px solid var(--sklearn-color-text-on-default-background);\n",
              "  flex-grow: 1;\n",
              "}\n",
              "\n",
              "#sk-container-id-1 div.sk-parallel {\n",
              "  display: flex;\n",
              "  align-items: stretch;\n",
              "  justify-content: center;\n",
              "  background-color: var(--sklearn-color-background);\n",
              "  position: relative;\n",
              "}\n",
              "\n",
              "#sk-container-id-1 div.sk-parallel-item {\n",
              "  display: flex;\n",
              "  flex-direction: column;\n",
              "}\n",
              "\n",
              "#sk-container-id-1 div.sk-parallel-item:first-child::after {\n",
              "  align-self: flex-end;\n",
              "  width: 50%;\n",
              "}\n",
              "\n",
              "#sk-container-id-1 div.sk-parallel-item:last-child::after {\n",
              "  align-self: flex-start;\n",
              "  width: 50%;\n",
              "}\n",
              "\n",
              "#sk-container-id-1 div.sk-parallel-item:only-child::after {\n",
              "  width: 0;\n",
              "}\n",
              "\n",
              "/* Serial-specific style estimator block */\n",
              "\n",
              "#sk-container-id-1 div.sk-serial {\n",
              "  display: flex;\n",
              "  flex-direction: column;\n",
              "  align-items: center;\n",
              "  background-color: var(--sklearn-color-background);\n",
              "  padding-right: 1em;\n",
              "  padding-left: 1em;\n",
              "}\n",
              "\n",
              "\n",
              "/* Toggleable style: style used for estimator/Pipeline/ColumnTransformer box that is\n",
              "clickable and can be expanded/collapsed.\n",
              "- Pipeline and ColumnTransformer use this feature and define the default style\n",
              "- Estimators will overwrite some part of the style using the `sk-estimator` class\n",
              "*/\n",
              "\n",
              "/* Pipeline and ColumnTransformer style (default) */\n",
              "\n",
              "#sk-container-id-1 div.sk-toggleable {\n",
              "  /* Default theme specific background. It is overwritten whether we have a\n",
              "  specific estimator or a Pipeline/ColumnTransformer */\n",
              "  background-color: var(--sklearn-color-background);\n",
              "}\n",
              "\n",
              "/* Toggleable label */\n",
              "#sk-container-id-1 label.sk-toggleable__label {\n",
              "  cursor: pointer;\n",
              "  display: flex;\n",
              "  width: 100%;\n",
              "  margin-bottom: 0;\n",
              "  padding: 0.5em;\n",
              "  box-sizing: border-box;\n",
              "  text-align: center;\n",
              "  align-items: start;\n",
              "  justify-content: space-between;\n",
              "  gap: 0.5em;\n",
              "}\n",
              "\n",
              "#sk-container-id-1 label.sk-toggleable__label .caption {\n",
              "  font-size: 0.6rem;\n",
              "  font-weight: lighter;\n",
              "  color: var(--sklearn-color-text-muted);\n",
              "}\n",
              "\n",
              "#sk-container-id-1 label.sk-toggleable__label-arrow:before {\n",
              "  /* Arrow on the left of the label */\n",
              "  content: \"▸\";\n",
              "  float: left;\n",
              "  margin-right: 0.25em;\n",
              "  color: var(--sklearn-color-icon);\n",
              "}\n",
              "\n",
              "#sk-container-id-1 label.sk-toggleable__label-arrow:hover:before {\n",
              "  color: var(--sklearn-color-text);\n",
              "}\n",
              "\n",
              "/* Toggleable content - dropdown */\n",
              "\n",
              "#sk-container-id-1 div.sk-toggleable__content {\n",
              "  max-height: 0;\n",
              "  max-width: 0;\n",
              "  overflow: hidden;\n",
              "  text-align: left;\n",
              "  /* unfitted */\n",
              "  background-color: var(--sklearn-color-unfitted-level-0);\n",
              "}\n",
              "\n",
              "#sk-container-id-1 div.sk-toggleable__content.fitted {\n",
              "  /* fitted */\n",
              "  background-color: var(--sklearn-color-fitted-level-0);\n",
              "}\n",
              "\n",
              "#sk-container-id-1 div.sk-toggleable__content pre {\n",
              "  margin: 0.2em;\n",
              "  border-radius: 0.25em;\n",
              "  color: var(--sklearn-color-text);\n",
              "  /* unfitted */\n",
              "  background-color: var(--sklearn-color-unfitted-level-0);\n",
              "}\n",
              "\n",
              "#sk-container-id-1 div.sk-toggleable__content.fitted pre {\n",
              "  /* unfitted */\n",
              "  background-color: var(--sklearn-color-fitted-level-0);\n",
              "}\n",
              "\n",
              "#sk-container-id-1 input.sk-toggleable__control:checked~div.sk-toggleable__content {\n",
              "  /* Expand drop-down */\n",
              "  max-height: 200px;\n",
              "  max-width: 100%;\n",
              "  overflow: auto;\n",
              "}\n",
              "\n",
              "#sk-container-id-1 input.sk-toggleable__control:checked~label.sk-toggleable__label-arrow:before {\n",
              "  content: \"▾\";\n",
              "}\n",
              "\n",
              "/* Pipeline/ColumnTransformer-specific style */\n",
              "\n",
              "#sk-container-id-1 div.sk-label input.sk-toggleable__control:checked~label.sk-toggleable__label {\n",
              "  color: var(--sklearn-color-text);\n",
              "  background-color: var(--sklearn-color-unfitted-level-2);\n",
              "}\n",
              "\n",
              "#sk-container-id-1 div.sk-label.fitted input.sk-toggleable__control:checked~label.sk-toggleable__label {\n",
              "  background-color: var(--sklearn-color-fitted-level-2);\n",
              "}\n",
              "\n",
              "/* Estimator-specific style */\n",
              "\n",
              "/* Colorize estimator box */\n",
              "#sk-container-id-1 div.sk-estimator input.sk-toggleable__control:checked~label.sk-toggleable__label {\n",
              "  /* unfitted */\n",
              "  background-color: var(--sklearn-color-unfitted-level-2);\n",
              "}\n",
              "\n",
              "#sk-container-id-1 div.sk-estimator.fitted input.sk-toggleable__control:checked~label.sk-toggleable__label {\n",
              "  /* fitted */\n",
              "  background-color: var(--sklearn-color-fitted-level-2);\n",
              "}\n",
              "\n",
              "#sk-container-id-1 div.sk-label label.sk-toggleable__label,\n",
              "#sk-container-id-1 div.sk-label label {\n",
              "  /* The background is the default theme color */\n",
              "  color: var(--sklearn-color-text-on-default-background);\n",
              "}\n",
              "\n",
              "/* On hover, darken the color of the background */\n",
              "#sk-container-id-1 div.sk-label:hover label.sk-toggleable__label {\n",
              "  color: var(--sklearn-color-text);\n",
              "  background-color: var(--sklearn-color-unfitted-level-2);\n",
              "}\n",
              "\n",
              "/* Label box, darken color on hover, fitted */\n",
              "#sk-container-id-1 div.sk-label.fitted:hover label.sk-toggleable__label.fitted {\n",
              "  color: var(--sklearn-color-text);\n",
              "  background-color: var(--sklearn-color-fitted-level-2);\n",
              "}\n",
              "\n",
              "/* Estimator label */\n",
              "\n",
              "#sk-container-id-1 div.sk-label label {\n",
              "  font-family: monospace;\n",
              "  font-weight: bold;\n",
              "  display: inline-block;\n",
              "  line-height: 1.2em;\n",
              "}\n",
              "\n",
              "#sk-container-id-1 div.sk-label-container {\n",
              "  text-align: center;\n",
              "}\n",
              "\n",
              "/* Estimator-specific */\n",
              "#sk-container-id-1 div.sk-estimator {\n",
              "  font-family: monospace;\n",
              "  border: 1px dotted var(--sklearn-color-border-box);\n",
              "  border-radius: 0.25em;\n",
              "  box-sizing: border-box;\n",
              "  margin-bottom: 0.5em;\n",
              "  /* unfitted */\n",
              "  background-color: var(--sklearn-color-unfitted-level-0);\n",
              "}\n",
              "\n",
              "#sk-container-id-1 div.sk-estimator.fitted {\n",
              "  /* fitted */\n",
              "  background-color: var(--sklearn-color-fitted-level-0);\n",
              "}\n",
              "\n",
              "/* on hover */\n",
              "#sk-container-id-1 div.sk-estimator:hover {\n",
              "  /* unfitted */\n",
              "  background-color: var(--sklearn-color-unfitted-level-2);\n",
              "}\n",
              "\n",
              "#sk-container-id-1 div.sk-estimator.fitted:hover {\n",
              "  /* fitted */\n",
              "  background-color: var(--sklearn-color-fitted-level-2);\n",
              "}\n",
              "\n",
              "/* Specification for estimator info (e.g. \"i\" and \"?\") */\n",
              "\n",
              "/* Common style for \"i\" and \"?\" */\n",
              "\n",
              ".sk-estimator-doc-link,\n",
              "a:link.sk-estimator-doc-link,\n",
              "a:visited.sk-estimator-doc-link {\n",
              "  float: right;\n",
              "  font-size: smaller;\n",
              "  line-height: 1em;\n",
              "  font-family: monospace;\n",
              "  background-color: var(--sklearn-color-background);\n",
              "  border-radius: 1em;\n",
              "  height: 1em;\n",
              "  width: 1em;\n",
              "  text-decoration: none !important;\n",
              "  margin-left: 0.5em;\n",
              "  text-align: center;\n",
              "  /* unfitted */\n",
              "  border: var(--sklearn-color-unfitted-level-1) 1pt solid;\n",
              "  color: var(--sklearn-color-unfitted-level-1);\n",
              "}\n",
              "\n",
              ".sk-estimator-doc-link.fitted,\n",
              "a:link.sk-estimator-doc-link.fitted,\n",
              "a:visited.sk-estimator-doc-link.fitted {\n",
              "  /* fitted */\n",
              "  border: var(--sklearn-color-fitted-level-1) 1pt solid;\n",
              "  color: var(--sklearn-color-fitted-level-1);\n",
              "}\n",
              "\n",
              "/* On hover */\n",
              "div.sk-estimator:hover .sk-estimator-doc-link:hover,\n",
              ".sk-estimator-doc-link:hover,\n",
              "div.sk-label-container:hover .sk-estimator-doc-link:hover,\n",
              ".sk-estimator-doc-link:hover {\n",
              "  /* unfitted */\n",
              "  background-color: var(--sklearn-color-unfitted-level-3);\n",
              "  color: var(--sklearn-color-background);\n",
              "  text-decoration: none;\n",
              "}\n",
              "\n",
              "div.sk-estimator.fitted:hover .sk-estimator-doc-link.fitted:hover,\n",
              ".sk-estimator-doc-link.fitted:hover,\n",
              "div.sk-label-container:hover .sk-estimator-doc-link.fitted:hover,\n",
              ".sk-estimator-doc-link.fitted:hover {\n",
              "  /* fitted */\n",
              "  background-color: var(--sklearn-color-fitted-level-3);\n",
              "  color: var(--sklearn-color-background);\n",
              "  text-decoration: none;\n",
              "}\n",
              "\n",
              "/* Span, style for the box shown on hovering the info icon */\n",
              ".sk-estimator-doc-link span {\n",
              "  display: none;\n",
              "  z-index: 9999;\n",
              "  position: relative;\n",
              "  font-weight: normal;\n",
              "  right: .2ex;\n",
              "  padding: .5ex;\n",
              "  margin: .5ex;\n",
              "  width: min-content;\n",
              "  min-width: 20ex;\n",
              "  max-width: 50ex;\n",
              "  color: var(--sklearn-color-text);\n",
              "  box-shadow: 2pt 2pt 4pt #999;\n",
              "  /* unfitted */\n",
              "  background: var(--sklearn-color-unfitted-level-0);\n",
              "  border: .5pt solid var(--sklearn-color-unfitted-level-3);\n",
              "}\n",
              "\n",
              ".sk-estimator-doc-link.fitted span {\n",
              "  /* fitted */\n",
              "  background: var(--sklearn-color-fitted-level-0);\n",
              "  border: var(--sklearn-color-fitted-level-3);\n",
              "}\n",
              "\n",
              ".sk-estimator-doc-link:hover span {\n",
              "  display: block;\n",
              "}\n",
              "\n",
              "/* \"?\"-specific style due to the `<a>` HTML tag */\n",
              "\n",
              "#sk-container-id-1 a.estimator_doc_link {\n",
              "  float: right;\n",
              "  font-size: 1rem;\n",
              "  line-height: 1em;\n",
              "  font-family: monospace;\n",
              "  background-color: var(--sklearn-color-background);\n",
              "  border-radius: 1rem;\n",
              "  height: 1rem;\n",
              "  width: 1rem;\n",
              "  text-decoration: none;\n",
              "  /* unfitted */\n",
              "  color: var(--sklearn-color-unfitted-level-1);\n",
              "  border: var(--sklearn-color-unfitted-level-1) 1pt solid;\n",
              "}\n",
              "\n",
              "#sk-container-id-1 a.estimator_doc_link.fitted {\n",
              "  /* fitted */\n",
              "  border: var(--sklearn-color-fitted-level-1) 1pt solid;\n",
              "  color: var(--sklearn-color-fitted-level-1);\n",
              "}\n",
              "\n",
              "/* On hover */\n",
              "#sk-container-id-1 a.estimator_doc_link:hover {\n",
              "  /* unfitted */\n",
              "  background-color: var(--sklearn-color-unfitted-level-3);\n",
              "  color: var(--sklearn-color-background);\n",
              "  text-decoration: none;\n",
              "}\n",
              "\n",
              "#sk-container-id-1 a.estimator_doc_link.fitted:hover {\n",
              "  /* fitted */\n",
              "  background-color: var(--sklearn-color-fitted-level-3);\n",
              "}\n",
              "</style><div id=\"sk-container-id-1\" class=\"sk-top-container\"><div class=\"sk-text-repr-fallback\"><pre>LinearRegression()</pre><b>In a Jupyter environment, please rerun this cell to show the HTML representation or trust the notebook. <br />On GitHub, the HTML representation is unable to render, please try loading this page with nbviewer.org.</b></div><div class=\"sk-container\" hidden><div class=\"sk-item\"><div class=\"sk-estimator fitted sk-toggleable\"><input class=\"sk-toggleable__control sk-hidden--visually\" id=\"sk-estimator-id-1\" type=\"checkbox\" checked><label for=\"sk-estimator-id-1\" class=\"sk-toggleable__label fitted sk-toggleable__label-arrow\"><div><div>LinearRegression</div></div><div><a class=\"sk-estimator-doc-link fitted\" rel=\"noreferrer\" target=\"_blank\" href=\"https://scikit-learn.org/1.6/modules/generated/sklearn.linear_model.LinearRegression.html\">?<span>Documentation for LinearRegression</span></a><span class=\"sk-estimator-doc-link fitted\">i<span>Fitted</span></span></div></label><div class=\"sk-toggleable__content fitted\"><pre>LinearRegression()</pre></div> </div></div></div></div>"
            ]
          },
          "metadata": {},
          "execution_count": 28
        }
      ]
    },
    {
      "cell_type": "markdown",
      "source": [
        "**Cara Kerja**:\n",
        "- Linear Regression mencari hubungan linear antara fitur-fitur input dan target (harga mobil).\n",
        "- Model ini meminimalkan sum of squared errors antara prediksi dan nilai aktual."
      ],
      "metadata": {
        "id": "EiHF_tQwLSnl"
      }
    },
    {
      "cell_type": "markdown",
      "source": [
        "### 5.2 Model 2: Decision Tree Regressor"
      ],
      "metadata": {
        "id": "Y-nkW1E_LZI6"
      }
    },
    {
      "cell_type": "code",
      "source": [
        "print(\"Training Decision Tree model...\")\n",
        "dt_model = DecisionTreeRegressor(random_state=42)\n",
        "dt_model.fit(X_train, y_train)"
      ],
      "metadata": {
        "colab": {
          "base_uri": "https://localhost:8080/",
          "height": 97
        },
        "id": "EUGcMo6VLbNp",
        "outputId": "438a199b-1826-477f-f9a0-8fa2f27239f6"
      },
      "execution_count": 29,
      "outputs": [
        {
          "output_type": "stream",
          "name": "stdout",
          "text": [
            "Training Decision Tree model...\n"
          ]
        },
        {
          "output_type": "execute_result",
          "data": {
            "text/plain": [
              "DecisionTreeRegressor(random_state=42)"
            ],
            "text/html": [
              "<style>#sk-container-id-2 {\n",
              "  /* Definition of color scheme common for light and dark mode */\n",
              "  --sklearn-color-text: #000;\n",
              "  --sklearn-color-text-muted: #666;\n",
              "  --sklearn-color-line: gray;\n",
              "  /* Definition of color scheme for unfitted estimators */\n",
              "  --sklearn-color-unfitted-level-0: #fff5e6;\n",
              "  --sklearn-color-unfitted-level-1: #f6e4d2;\n",
              "  --sklearn-color-unfitted-level-2: #ffe0b3;\n",
              "  --sklearn-color-unfitted-level-3: chocolate;\n",
              "  /* Definition of color scheme for fitted estimators */\n",
              "  --sklearn-color-fitted-level-0: #f0f8ff;\n",
              "  --sklearn-color-fitted-level-1: #d4ebff;\n",
              "  --sklearn-color-fitted-level-2: #b3dbfd;\n",
              "  --sklearn-color-fitted-level-3: cornflowerblue;\n",
              "\n",
              "  /* Specific color for light theme */\n",
              "  --sklearn-color-text-on-default-background: var(--sg-text-color, var(--theme-code-foreground, var(--jp-content-font-color1, black)));\n",
              "  --sklearn-color-background: var(--sg-background-color, var(--theme-background, var(--jp-layout-color0, white)));\n",
              "  --sklearn-color-border-box: var(--sg-text-color, var(--theme-code-foreground, var(--jp-content-font-color1, black)));\n",
              "  --sklearn-color-icon: #696969;\n",
              "\n",
              "  @media (prefers-color-scheme: dark) {\n",
              "    /* Redefinition of color scheme for dark theme */\n",
              "    --sklearn-color-text-on-default-background: var(--sg-text-color, var(--theme-code-foreground, var(--jp-content-font-color1, white)));\n",
              "    --sklearn-color-background: var(--sg-background-color, var(--theme-background, var(--jp-layout-color0, #111)));\n",
              "    --sklearn-color-border-box: var(--sg-text-color, var(--theme-code-foreground, var(--jp-content-font-color1, white)));\n",
              "    --sklearn-color-icon: #878787;\n",
              "  }\n",
              "}\n",
              "\n",
              "#sk-container-id-2 {\n",
              "  color: var(--sklearn-color-text);\n",
              "}\n",
              "\n",
              "#sk-container-id-2 pre {\n",
              "  padding: 0;\n",
              "}\n",
              "\n",
              "#sk-container-id-2 input.sk-hidden--visually {\n",
              "  border: 0;\n",
              "  clip: rect(1px 1px 1px 1px);\n",
              "  clip: rect(1px, 1px, 1px, 1px);\n",
              "  height: 1px;\n",
              "  margin: -1px;\n",
              "  overflow: hidden;\n",
              "  padding: 0;\n",
              "  position: absolute;\n",
              "  width: 1px;\n",
              "}\n",
              "\n",
              "#sk-container-id-2 div.sk-dashed-wrapped {\n",
              "  border: 1px dashed var(--sklearn-color-line);\n",
              "  margin: 0 0.4em 0.5em 0.4em;\n",
              "  box-sizing: border-box;\n",
              "  padding-bottom: 0.4em;\n",
              "  background-color: var(--sklearn-color-background);\n",
              "}\n",
              "\n",
              "#sk-container-id-2 div.sk-container {\n",
              "  /* jupyter's `normalize.less` sets `[hidden] { display: none; }`\n",
              "     but bootstrap.min.css set `[hidden] { display: none !important; }`\n",
              "     so we also need the `!important` here to be able to override the\n",
              "     default hidden behavior on the sphinx rendered scikit-learn.org.\n",
              "     See: https://github.com/scikit-learn/scikit-learn/issues/21755 */\n",
              "  display: inline-block !important;\n",
              "  position: relative;\n",
              "}\n",
              "\n",
              "#sk-container-id-2 div.sk-text-repr-fallback {\n",
              "  display: none;\n",
              "}\n",
              "\n",
              "div.sk-parallel-item,\n",
              "div.sk-serial,\n",
              "div.sk-item {\n",
              "  /* draw centered vertical line to link estimators */\n",
              "  background-image: linear-gradient(var(--sklearn-color-text-on-default-background), var(--sklearn-color-text-on-default-background));\n",
              "  background-size: 2px 100%;\n",
              "  background-repeat: no-repeat;\n",
              "  background-position: center center;\n",
              "}\n",
              "\n",
              "/* Parallel-specific style estimator block */\n",
              "\n",
              "#sk-container-id-2 div.sk-parallel-item::after {\n",
              "  content: \"\";\n",
              "  width: 100%;\n",
              "  border-bottom: 2px solid var(--sklearn-color-text-on-default-background);\n",
              "  flex-grow: 1;\n",
              "}\n",
              "\n",
              "#sk-container-id-2 div.sk-parallel {\n",
              "  display: flex;\n",
              "  align-items: stretch;\n",
              "  justify-content: center;\n",
              "  background-color: var(--sklearn-color-background);\n",
              "  position: relative;\n",
              "}\n",
              "\n",
              "#sk-container-id-2 div.sk-parallel-item {\n",
              "  display: flex;\n",
              "  flex-direction: column;\n",
              "}\n",
              "\n",
              "#sk-container-id-2 div.sk-parallel-item:first-child::after {\n",
              "  align-self: flex-end;\n",
              "  width: 50%;\n",
              "}\n",
              "\n",
              "#sk-container-id-2 div.sk-parallel-item:last-child::after {\n",
              "  align-self: flex-start;\n",
              "  width: 50%;\n",
              "}\n",
              "\n",
              "#sk-container-id-2 div.sk-parallel-item:only-child::after {\n",
              "  width: 0;\n",
              "}\n",
              "\n",
              "/* Serial-specific style estimator block */\n",
              "\n",
              "#sk-container-id-2 div.sk-serial {\n",
              "  display: flex;\n",
              "  flex-direction: column;\n",
              "  align-items: center;\n",
              "  background-color: var(--sklearn-color-background);\n",
              "  padding-right: 1em;\n",
              "  padding-left: 1em;\n",
              "}\n",
              "\n",
              "\n",
              "/* Toggleable style: style used for estimator/Pipeline/ColumnTransformer box that is\n",
              "clickable and can be expanded/collapsed.\n",
              "- Pipeline and ColumnTransformer use this feature and define the default style\n",
              "- Estimators will overwrite some part of the style using the `sk-estimator` class\n",
              "*/\n",
              "\n",
              "/* Pipeline and ColumnTransformer style (default) */\n",
              "\n",
              "#sk-container-id-2 div.sk-toggleable {\n",
              "  /* Default theme specific background. It is overwritten whether we have a\n",
              "  specific estimator or a Pipeline/ColumnTransformer */\n",
              "  background-color: var(--sklearn-color-background);\n",
              "}\n",
              "\n",
              "/* Toggleable label */\n",
              "#sk-container-id-2 label.sk-toggleable__label {\n",
              "  cursor: pointer;\n",
              "  display: flex;\n",
              "  width: 100%;\n",
              "  margin-bottom: 0;\n",
              "  padding: 0.5em;\n",
              "  box-sizing: border-box;\n",
              "  text-align: center;\n",
              "  align-items: start;\n",
              "  justify-content: space-between;\n",
              "  gap: 0.5em;\n",
              "}\n",
              "\n",
              "#sk-container-id-2 label.sk-toggleable__label .caption {\n",
              "  font-size: 0.6rem;\n",
              "  font-weight: lighter;\n",
              "  color: var(--sklearn-color-text-muted);\n",
              "}\n",
              "\n",
              "#sk-container-id-2 label.sk-toggleable__label-arrow:before {\n",
              "  /* Arrow on the left of the label */\n",
              "  content: \"▸\";\n",
              "  float: left;\n",
              "  margin-right: 0.25em;\n",
              "  color: var(--sklearn-color-icon);\n",
              "}\n",
              "\n",
              "#sk-container-id-2 label.sk-toggleable__label-arrow:hover:before {\n",
              "  color: var(--sklearn-color-text);\n",
              "}\n",
              "\n",
              "/* Toggleable content - dropdown */\n",
              "\n",
              "#sk-container-id-2 div.sk-toggleable__content {\n",
              "  max-height: 0;\n",
              "  max-width: 0;\n",
              "  overflow: hidden;\n",
              "  text-align: left;\n",
              "  /* unfitted */\n",
              "  background-color: var(--sklearn-color-unfitted-level-0);\n",
              "}\n",
              "\n",
              "#sk-container-id-2 div.sk-toggleable__content.fitted {\n",
              "  /* fitted */\n",
              "  background-color: var(--sklearn-color-fitted-level-0);\n",
              "}\n",
              "\n",
              "#sk-container-id-2 div.sk-toggleable__content pre {\n",
              "  margin: 0.2em;\n",
              "  border-radius: 0.25em;\n",
              "  color: var(--sklearn-color-text);\n",
              "  /* unfitted */\n",
              "  background-color: var(--sklearn-color-unfitted-level-0);\n",
              "}\n",
              "\n",
              "#sk-container-id-2 div.sk-toggleable__content.fitted pre {\n",
              "  /* unfitted */\n",
              "  background-color: var(--sklearn-color-fitted-level-0);\n",
              "}\n",
              "\n",
              "#sk-container-id-2 input.sk-toggleable__control:checked~div.sk-toggleable__content {\n",
              "  /* Expand drop-down */\n",
              "  max-height: 200px;\n",
              "  max-width: 100%;\n",
              "  overflow: auto;\n",
              "}\n",
              "\n",
              "#sk-container-id-2 input.sk-toggleable__control:checked~label.sk-toggleable__label-arrow:before {\n",
              "  content: \"▾\";\n",
              "}\n",
              "\n",
              "/* Pipeline/ColumnTransformer-specific style */\n",
              "\n",
              "#sk-container-id-2 div.sk-label input.sk-toggleable__control:checked~label.sk-toggleable__label {\n",
              "  color: var(--sklearn-color-text);\n",
              "  background-color: var(--sklearn-color-unfitted-level-2);\n",
              "}\n",
              "\n",
              "#sk-container-id-2 div.sk-label.fitted input.sk-toggleable__control:checked~label.sk-toggleable__label {\n",
              "  background-color: var(--sklearn-color-fitted-level-2);\n",
              "}\n",
              "\n",
              "/* Estimator-specific style */\n",
              "\n",
              "/* Colorize estimator box */\n",
              "#sk-container-id-2 div.sk-estimator input.sk-toggleable__control:checked~label.sk-toggleable__label {\n",
              "  /* unfitted */\n",
              "  background-color: var(--sklearn-color-unfitted-level-2);\n",
              "}\n",
              "\n",
              "#sk-container-id-2 div.sk-estimator.fitted input.sk-toggleable__control:checked~label.sk-toggleable__label {\n",
              "  /* fitted */\n",
              "  background-color: var(--sklearn-color-fitted-level-2);\n",
              "}\n",
              "\n",
              "#sk-container-id-2 div.sk-label label.sk-toggleable__label,\n",
              "#sk-container-id-2 div.sk-label label {\n",
              "  /* The background is the default theme color */\n",
              "  color: var(--sklearn-color-text-on-default-background);\n",
              "}\n",
              "\n",
              "/* On hover, darken the color of the background */\n",
              "#sk-container-id-2 div.sk-label:hover label.sk-toggleable__label {\n",
              "  color: var(--sklearn-color-text);\n",
              "  background-color: var(--sklearn-color-unfitted-level-2);\n",
              "}\n",
              "\n",
              "/* Label box, darken color on hover, fitted */\n",
              "#sk-container-id-2 div.sk-label.fitted:hover label.sk-toggleable__label.fitted {\n",
              "  color: var(--sklearn-color-text);\n",
              "  background-color: var(--sklearn-color-fitted-level-2);\n",
              "}\n",
              "\n",
              "/* Estimator label */\n",
              "\n",
              "#sk-container-id-2 div.sk-label label {\n",
              "  font-family: monospace;\n",
              "  font-weight: bold;\n",
              "  display: inline-block;\n",
              "  line-height: 1.2em;\n",
              "}\n",
              "\n",
              "#sk-container-id-2 div.sk-label-container {\n",
              "  text-align: center;\n",
              "}\n",
              "\n",
              "/* Estimator-specific */\n",
              "#sk-container-id-2 div.sk-estimator {\n",
              "  font-family: monospace;\n",
              "  border: 1px dotted var(--sklearn-color-border-box);\n",
              "  border-radius: 0.25em;\n",
              "  box-sizing: border-box;\n",
              "  margin-bottom: 0.5em;\n",
              "  /* unfitted */\n",
              "  background-color: var(--sklearn-color-unfitted-level-0);\n",
              "}\n",
              "\n",
              "#sk-container-id-2 div.sk-estimator.fitted {\n",
              "  /* fitted */\n",
              "  background-color: var(--sklearn-color-fitted-level-0);\n",
              "}\n",
              "\n",
              "/* on hover */\n",
              "#sk-container-id-2 div.sk-estimator:hover {\n",
              "  /* unfitted */\n",
              "  background-color: var(--sklearn-color-unfitted-level-2);\n",
              "}\n",
              "\n",
              "#sk-container-id-2 div.sk-estimator.fitted:hover {\n",
              "  /* fitted */\n",
              "  background-color: var(--sklearn-color-fitted-level-2);\n",
              "}\n",
              "\n",
              "/* Specification for estimator info (e.g. \"i\" and \"?\") */\n",
              "\n",
              "/* Common style for \"i\" and \"?\" */\n",
              "\n",
              ".sk-estimator-doc-link,\n",
              "a:link.sk-estimator-doc-link,\n",
              "a:visited.sk-estimator-doc-link {\n",
              "  float: right;\n",
              "  font-size: smaller;\n",
              "  line-height: 1em;\n",
              "  font-family: monospace;\n",
              "  background-color: var(--sklearn-color-background);\n",
              "  border-radius: 1em;\n",
              "  height: 1em;\n",
              "  width: 1em;\n",
              "  text-decoration: none !important;\n",
              "  margin-left: 0.5em;\n",
              "  text-align: center;\n",
              "  /* unfitted */\n",
              "  border: var(--sklearn-color-unfitted-level-1) 1pt solid;\n",
              "  color: var(--sklearn-color-unfitted-level-1);\n",
              "}\n",
              "\n",
              ".sk-estimator-doc-link.fitted,\n",
              "a:link.sk-estimator-doc-link.fitted,\n",
              "a:visited.sk-estimator-doc-link.fitted {\n",
              "  /* fitted */\n",
              "  border: var(--sklearn-color-fitted-level-1) 1pt solid;\n",
              "  color: var(--sklearn-color-fitted-level-1);\n",
              "}\n",
              "\n",
              "/* On hover */\n",
              "div.sk-estimator:hover .sk-estimator-doc-link:hover,\n",
              ".sk-estimator-doc-link:hover,\n",
              "div.sk-label-container:hover .sk-estimator-doc-link:hover,\n",
              ".sk-estimator-doc-link:hover {\n",
              "  /* unfitted */\n",
              "  background-color: var(--sklearn-color-unfitted-level-3);\n",
              "  color: var(--sklearn-color-background);\n",
              "  text-decoration: none;\n",
              "}\n",
              "\n",
              "div.sk-estimator.fitted:hover .sk-estimator-doc-link.fitted:hover,\n",
              ".sk-estimator-doc-link.fitted:hover,\n",
              "div.sk-label-container:hover .sk-estimator-doc-link.fitted:hover,\n",
              ".sk-estimator-doc-link.fitted:hover {\n",
              "  /* fitted */\n",
              "  background-color: var(--sklearn-color-fitted-level-3);\n",
              "  color: var(--sklearn-color-background);\n",
              "  text-decoration: none;\n",
              "}\n",
              "\n",
              "/* Span, style for the box shown on hovering the info icon */\n",
              ".sk-estimator-doc-link span {\n",
              "  display: none;\n",
              "  z-index: 9999;\n",
              "  position: relative;\n",
              "  font-weight: normal;\n",
              "  right: .2ex;\n",
              "  padding: .5ex;\n",
              "  margin: .5ex;\n",
              "  width: min-content;\n",
              "  min-width: 20ex;\n",
              "  max-width: 50ex;\n",
              "  color: var(--sklearn-color-text);\n",
              "  box-shadow: 2pt 2pt 4pt #999;\n",
              "  /* unfitted */\n",
              "  background: var(--sklearn-color-unfitted-level-0);\n",
              "  border: .5pt solid var(--sklearn-color-unfitted-level-3);\n",
              "}\n",
              "\n",
              ".sk-estimator-doc-link.fitted span {\n",
              "  /* fitted */\n",
              "  background: var(--sklearn-color-fitted-level-0);\n",
              "  border: var(--sklearn-color-fitted-level-3);\n",
              "}\n",
              "\n",
              ".sk-estimator-doc-link:hover span {\n",
              "  display: block;\n",
              "}\n",
              "\n",
              "/* \"?\"-specific style due to the `<a>` HTML tag */\n",
              "\n",
              "#sk-container-id-2 a.estimator_doc_link {\n",
              "  float: right;\n",
              "  font-size: 1rem;\n",
              "  line-height: 1em;\n",
              "  font-family: monospace;\n",
              "  background-color: var(--sklearn-color-background);\n",
              "  border-radius: 1rem;\n",
              "  height: 1rem;\n",
              "  width: 1rem;\n",
              "  text-decoration: none;\n",
              "  /* unfitted */\n",
              "  color: var(--sklearn-color-unfitted-level-1);\n",
              "  border: var(--sklearn-color-unfitted-level-1) 1pt solid;\n",
              "}\n",
              "\n",
              "#sk-container-id-2 a.estimator_doc_link.fitted {\n",
              "  /* fitted */\n",
              "  border: var(--sklearn-color-fitted-level-1) 1pt solid;\n",
              "  color: var(--sklearn-color-fitted-level-1);\n",
              "}\n",
              "\n",
              "/* On hover */\n",
              "#sk-container-id-2 a.estimator_doc_link:hover {\n",
              "  /* unfitted */\n",
              "  background-color: var(--sklearn-color-unfitted-level-3);\n",
              "  color: var(--sklearn-color-background);\n",
              "  text-decoration: none;\n",
              "}\n",
              "\n",
              "#sk-container-id-2 a.estimator_doc_link.fitted:hover {\n",
              "  /* fitted */\n",
              "  background-color: var(--sklearn-color-fitted-level-3);\n",
              "}\n",
              "</style><div id=\"sk-container-id-2\" class=\"sk-top-container\"><div class=\"sk-text-repr-fallback\"><pre>DecisionTreeRegressor(random_state=42)</pre><b>In a Jupyter environment, please rerun this cell to show the HTML representation or trust the notebook. <br />On GitHub, the HTML representation is unable to render, please try loading this page with nbviewer.org.</b></div><div class=\"sk-container\" hidden><div class=\"sk-item\"><div class=\"sk-estimator fitted sk-toggleable\"><input class=\"sk-toggleable__control sk-hidden--visually\" id=\"sk-estimator-id-2\" type=\"checkbox\" checked><label for=\"sk-estimator-id-2\" class=\"sk-toggleable__label fitted sk-toggleable__label-arrow\"><div><div>DecisionTreeRegressor</div></div><div><a class=\"sk-estimator-doc-link fitted\" rel=\"noreferrer\" target=\"_blank\" href=\"https://scikit-learn.org/1.6/modules/generated/sklearn.tree.DecisionTreeRegressor.html\">?<span>Documentation for DecisionTreeRegressor</span></a><span class=\"sk-estimator-doc-link fitted\">i<span>Fitted</span></span></div></label><div class=\"sk-toggleable__content fitted\"><pre>DecisionTreeRegressor(random_state=42)</pre></div> </div></div></div></div>"
            ]
          },
          "metadata": {},
          "execution_count": 29
        }
      ]
    },
    {
      "cell_type": "markdown",
      "source": [
        "**Cara Kerja**:\n",
        "- Decision Tree Regressor membagi data menjadi subset-subset yang lebih kecil\n",
        "- berdasarkan fitur dan nilai threshold tertentu, membentuk struktur pohon."
      ],
      "metadata": {
        "id": "C0y_5pUgLcxH"
      }
    },
    {
      "cell_type": "markdown",
      "source": [
        "### 5.3 Model 3: Random Forest Regressor"
      ],
      "metadata": {
        "id": "1Kz44R5gLfoQ"
      }
    },
    {
      "cell_type": "code",
      "source": [
        "print(\"Training Random Forest model...\")\n",
        "\n",
        "# Define parameter grid\n",
        "param_grid = {\n",
        "    'n_estimators': [100, 200, 300],\n",
        "    'max_depth': [10, 20, None],\n",
        "    'min_samples_split': [2, 5, 10],\n",
        "    'min_samples_leaf': [1, 2, 4]\n",
        "}\n",
        "\n",
        "# Initialize RandomForest\n",
        "rf = RandomForestRegressor(random_state=42)\n",
        "\n",
        "# GridSearchCV\n",
        "print(\"Performing hyperparameter tuning...\")\n",
        "grid_search = GridSearchCV(estimator=rf, param_grid=param_grid,\n",
        "                           cv=5, n_jobs=-1, verbose=1, scoring='neg_mean_squared_error')\n",
        "\n",
        "# Fit model\n",
        "grid_search.fit(X_train, y_train)\n",
        "\n",
        "# Best model\n",
        "best_rf_model = grid_search.best_estimator_\n",
        "\n",
        "# Print best parameters\n",
        "print(\"Best parameters for Random Forest:\", grid_search.best_params_)"
      ],
      "metadata": {
        "colab": {
          "base_uri": "https://localhost:8080/"
        },
        "id": "IloFaPmCLiww",
        "outputId": "2b3e208d-e1b0-4209-f67d-80be1d8b8508"
      },
      "execution_count": 30,
      "outputs": [
        {
          "output_type": "stream",
          "name": "stdout",
          "text": [
            "Training Random Forest model...\n",
            "Performing hyperparameter tuning...\n",
            "Fitting 5 folds for each of 81 candidates, totalling 405 fits\n",
            "Best parameters for Random Forest: {'max_depth': 10, 'min_samples_leaf': 1, 'min_samples_split': 2, 'n_estimators': 100}\n"
          ]
        }
      ]
    },
    {
      "cell_type": "markdown",
      "source": [
        "**Cara Kerja**:\n",
        "- Random Forest Regressor adalah ensemble model yang terdiri dari banyak decision trees.\n",
        "- Setiap tree dilatih pada subset data dan subset fitur yang berbeda."
      ],
      "metadata": {
        "id": "PVVg8ihPLlmE"
      }
    },
    {
      "cell_type": "markdown",
      "source": [
        "## 6. Model Evaluation dan Comparison"
      ],
      "metadata": {
        "id": "JgNaJ0T3Ltcq"
      }
    },
    {
      "cell_type": "code",
      "source": [
        "def evaluate_model(model, X_test, y_test, name='Model'):\n",
        "    y_pred = model.predict(X_test)\n",
        "    mae = mean_absolute_error(y_test, y_pred)\n",
        "    rmse = np.sqrt(mean_squared_error(y_test, y_pred))\n",
        "    r2 = r2_score(y_test, y_pred)\n",
        "\n",
        "    print(f\"== {name} Evaluation ==\")\n",
        "    print(f\"MAE:  {mae:.4f}\")\n",
        "    print(f\"RMSE: {rmse:.4f}\")\n",
        "    print(f\"R²:   {r2:.4f}\")\n",
        "    print()\n",
        "\n",
        "    return mae, rmse, r2\n",
        "\n",
        "print(\"Evaluating all models...\")\n",
        "lr_mae, lr_rmse, lr_r2 = evaluate_model(lr_model, X_test, y_test, \"Linear Regression\")\n",
        "dt_mae, dt_rmse, dt_r2 = evaluate_model(dt_model, X_test, y_test, \"Decision Tree\")\n",
        "rf_mae, rf_rmse, rf_r2 = evaluate_model(best_rf_model, X_test, y_test, \"Random Forest (Best)\")"
      ],
      "metadata": {
        "colab": {
          "base_uri": "https://localhost:8080/"
        },
        "id": "X9oWcc5CLvkU",
        "outputId": "5e9d2b6e-639e-42ca-a5de-0767b7be9243"
      },
      "execution_count": 31,
      "outputs": [
        {
          "output_type": "stream",
          "name": "stdout",
          "text": [
            "Evaluating all models...\n",
            "== Linear Regression Evaluation ==\n",
            "MAE:  0.7621\n",
            "RMSE: 1.2360\n",
            "R²:   0.8373\n",
            "\n",
            "== Decision Tree Evaluation ==\n",
            "MAE:  0.4177\n",
            "RMSE: 0.6001\n",
            "R²:   0.9617\n",
            "\n",
            "== Random Forest (Best) Evaluation ==\n",
            "MAE:  0.3255\n",
            "RMSE: 0.5135\n",
            "R²:   0.9719\n",
            "\n"
          ]
        }
      ]
    },
    {
      "cell_type": "markdown",
      "source": [
        "### Visualisasi Hasil Prediksi"
      ],
      "metadata": {
        "id": "JnIKznuPLxyp"
      }
    },
    {
      "cell_type": "code",
      "source": [
        "plt.figure(figsize=(15, 5))\n",
        "\n",
        "# Linear Regression\n",
        "plt.subplot(1, 3, 1)\n",
        "y_pred_lr = lr_model.predict(X_test)\n",
        "plt.scatter(y_test, y_pred_lr, alpha=0.7)\n",
        "plt.plot([y_test.min(), y_test.max()], [y_test.min(), y_test.max()], 'r--', lw=2)\n",
        "plt.xlabel('Actual Price')\n",
        "plt.ylabel('Predicted Price')\n",
        "plt.title('Linear Regression')\n",
        "plt.grid(True)\n",
        "\n",
        "# Decision Tree\n",
        "plt.subplot(1, 3, 2)\n",
        "y_pred_dt = dt_model.predict(X_test)\n",
        "plt.scatter(y_test, y_pred_dt, alpha=0.7)\n",
        "plt.plot([y_test.min(), y_test.max()], [y_test.min(), y_test.max()], 'r--', lw=2)\n",
        "plt.xlabel('Actual Price')\n",
        "plt.ylabel('Predicted Price')\n",
        "plt.title('Decision Tree')\n",
        "plt.grid(True)\n",
        "\n",
        "# Random Forest\n",
        "plt.subplot(1, 3, 3)\n",
        "y_pred_rf = best_rf_model.predict(X_test)\n",
        "plt.scatter(y_test, y_pred_rf, alpha=0.7)\n",
        "plt.plot([y_test.min(), y_test.max()], [y_test.min(), y_test.max()], 'r--', lw=2)\n",
        "plt.xlabel('Actual Price')\n",
        "plt.ylabel('Predicted Price')\n",
        "plt.title('Random Forest (Best)')\n",
        "plt.grid(True)\n",
        "\n",
        "plt.tight_layout()\n",
        "plt.show()"
      ],
      "metadata": {
        "colab": {
          "base_uri": "https://localhost:8080/",
          "height": 383
        },
        "id": "knr3gqZYL0YQ",
        "outputId": "aae60a1c-15fe-4869-b7ba-4a074a48d93e"
      },
      "execution_count": 32,
      "outputs": [
        {
          "output_type": "display_data",
          "data": {
            "text/plain": [
              "<Figure size 1500x500 with 3 Axes>"
            ],
            "image/png": "[encoded data removed]"
          },
          "metadata": {}
        }
      ]
    },
    {
      "cell_type": "markdown",
      "source": [
        "### Feature Importance Analysis"
      ],
      "metadata": {
        "id": "A8DI3_C3L2f3"
      }
    },
    {
      "cell_type": "code",
      "source": [
        "if hasattr(best_rf_model, 'feature_importances_'):\n",
        "    feature_importance = pd.DataFrame({\n",
        "        'Feature': X_train.columns,\n",
        "        'Importance': best_rf_model.feature_importances_\n",
        "    }).sort_values('Importance', ascending=False)\n",
        "\n",
        "    plt.figure(figsize=(12, 8))\n",
        "    top_features = feature_importance.head(15)\n",
        "    sns.barplot(data=top_features, x='Importance', y='Feature')\n",
        "    plt.title('Top 15 Feature Importance (Random Forest)')\n",
        "    plt.xlabel('Importance')\n",
        "    plt.tight_layout()\n",
        "    plt.show()\n",
        "\n",
        "    print(\"Top 10 Most Important Features:\")\n",
        "    print(feature_importance.head(10))"
      ],
      "metadata": {
        "colab": {
          "base_uri": "https://localhost:8080/",
          "height": 964
        },
        "id": "rDCsBJJnL4tg",
        "outputId": "a4eb700e-dc15-4c43-a038-5a4a937c9e72"
      },
      "execution_count": 33,
      "outputs": [
        {
          "output_type": "display_data",
          "data": {
            "text/plain": [
              "<Figure size 1200x800 with 1 Axes>"
            ],
            "image/png": "[encoded data removed]"
          },
          "metadata": {}
        },
        {
          "output_type": "stream",
          "name": "stdout",
          "text": [
            "Top 10 Most Important Features:\n",
            "                     Feature  Importance\n",
            "1              Present_Price    0.765271\n",
            "6               Price_per_km    0.166787\n",
            "5          Depreciation_Rate    0.038752\n",
            "8        Seller_Type_Encoded    0.009389\n",
            "0                       Year    0.007965\n",
            "4                    Car_Age    0.006328\n",
            "2                 Kms_Driven    0.003867\n",
            "7          Fuel_Type_Encoded    0.000673\n",
            "10  Mileage_Category_Encoded    0.000490\n",
            "9       Transmission_Encoded    0.000296\n"
          ]
        }
      ]
    },
    {
      "cell_type": "markdown",
      "source": [
        "## 7. Model Testing dengan Contoh Data"
      ],
      "metadata": {
        "id": "RDrv55ViL7nE"
      }
    },
    {
      "cell_type": "code",
      "source": [
        "# Contoh data mobil untuk testing\n",
        "sample_data = {\n",
        "    'Year': 2018,\n",
        "    'Present_Price': 9.85,\n",
        "    'Kms_Driven': 35000,\n",
        "    'Fuel_Type': 'Petrol',\n",
        "    'Seller_Type': 'Individual',\n",
        "    'Transmission': 'Manual',\n",
        "    'Owner': 0,\n",
        "    'Selling_Price': 7.5  # Harga aktual untuk perbandingan\n",
        "}\n",
        "\n",
        "print(\"Testing model with sample data:\")\n",
        "print(\"Sample car specifications:\")\n",
        "for key, value in sample_data.items():\n",
        "    if key != 'Selling_Price':\n",
        "        print(f\"  {key}: {value}\")\n",
        "\n",
        "# Simpan harga aktual\n",
        "actual_price = sample_data['Selling_Price']\n",
        "\n",
        "# Buat DataFrame dari sample data\n",
        "sample_df = pd.DataFrame([sample_data])\n",
        "sample_df = sample_df.drop(columns=['Selling_Price'])\n",
        "\n",
        "# Feature engineering untuk sample data\n",
        "sample_df['Car_Age'] = 2024 - sample_df['Year']\n",
        "sample_df['Depreciation_Rate'] = (sample_df['Present_Price'] - actual_price) / sample_df['Present_Price']\n",
        "sample_df['Price_per_km'] = actual_price / (sample_df['Kms_Driven'] + 1)\n",
        "sample_df['Mileage_Category'] = pd.cut(sample_df['Kms_Driven'],\n",
        "                                      bins=[0, 20000, 50000, 100000, float('inf')],\n",
        "                                      labels=['Low', 'Medium', 'High', 'Very High'])\n",
        "\n",
        "# Encoding\n",
        "sample_df['Fuel_Type_Encoded'] = le_fuel.transform(sample_df['Fuel_Type'])\n",
        "sample_df['Seller_Type_Encoded'] = le_seller.transform(sample_df['Seller_Type'])\n",
        "sample_df['Transmission_Encoded'] = le_transmission.transform(sample_df['Transmission'])\n",
        "sample_df['Mileage_Category_Encoded'] = le_mileage.transform(sample_df['Mileage_Category'])\n",
        "\n",
        "# Pastikan semua kolom sesuai dengan training data\n",
        "for col in X_train.columns:\n",
        "    if col not in sample_df.columns:\n",
        "        sample_df[col] = 0\n",
        "\n",
        "# Pilih kolom sesuai urutan training\n",
        "sample_df = sample_df[X_train.columns]\n",
        "\n",
        "# Prediksi menggunakan model terbaik\n",
        "predicted_price = best_rf_model.predict(sample_df)[0]\n",
        "\n",
        "print(f\"\\nPrediction Results:\")\n",
        "print(f\"Actual Price: ₹{actual_price:.2f} Lakh\")\n",
        "print(f\"Predicted Price: ₹{predicted_price:.2f} Lakh\")\n",
        "print(f\"Difference: ₹{abs(actual_price - predicted_price):.2f} Lakh\")\n",
        "print(f\"Percentage Error: {abs(actual_price - predicted_price) / actual_price * 100:.2f}%\")"
      ],
      "metadata": {
        "colab": {
          "base_uri": "https://localhost:8080/"
        },
        "id": "VdQPwSNAL-b2",
        "outputId": "a9c9dbf8-dfd9-4220-da1d-0b70e87d90b2"
      },
      "execution_count": 34,
      "outputs": [
        {
          "output_type": "stream",
          "name": "stdout",
          "text": [
            "Testing model with sample data:\n",
            "Sample car specifications:\n",
            "  Year: 2018\n",
            "  Present_Price: 9.85\n",
            "  Kms_Driven: 35000\n",
            "  Fuel_Type: Petrol\n",
            "  Seller_Type: Individual\n",
            "  Transmission: Manual\n",
            "  Owner: 0\n",
            "\n",
            "Prediction Results:\n",
            "Actual Price: ₹7.50 Lakh\n",
            "Predicted Price: ₹8.55 Lakh\n",
            "Difference: ₹1.05 Lakh\n",
            "Percentage Error: 14.04%\n"
          ]
        }
      ]
    },
    {
      "cell_type": "markdown",
      "source": [
        "## 8. Model Saving"
      ],
      "metadata": {
        "id": "49RM1oD3L_ye"
      }
    },
    {
      "cell_type": "code",
      "source": [
        "import joblib\n",
        "\n",
        "# Save the best model\n",
        "joblib.dump(best_rf_model, 'car_price_prediction_model.pkl')\n",
        "joblib.dump(scaler, 'car_price_scaler.pkl')\n",
        "joblib.dump([le_fuel, le_seller, le_transmission, le_mileage], 'car_price_encoders.pkl')\n",
        "\n",
        "print(\"Model and preprocessing objects saved successfully!\")"
      ],
      "metadata": {
        "colab": {
          "base_uri": "https://localhost:8080/"
        },
        "id": "GasUz3w2MBj4",
        "outputId": "62689c37-a6e9-4937-9ef8-545666e79694"
      },
      "execution_count": 35,
      "outputs": [
        {
          "output_type": "stream",
          "name": "stdout",
          "text": [
            "Model and preprocessing objects saved successfully!\n"
          ]
        }
      ]
    },
    {
      "cell_type": "markdown",
      "source": [
        "## 9. Kesimpulan"
      ],
      "metadata": {
        "id": "CLJlN3G0MC3n"
      }
    },
    {
      "cell_type": "code",
      "execution_count": 36,
      "metadata": {
        "colab": {
          "base_uri": "https://localhost:8080/"
        },
        "id": "u2X1GadeH2lr",
        "outputId": "2b8558bd-fb80-4a3d-c023-fb76fb8479d3"
      },
      "outputs": [
        {
          "output_type": "stream",
          "name": "stdout",
          "text": [
            "\n",
            "==================================================\n",
            "PROJECT SUMMARY\n",
            "==================================================\n",
            "\n",
            "Dataset Information:\n",
            "- Original dataset size: 301 rows, 13 columns\n",
            "- Final dataset size: 284 rows\n",
            "- Number of features used: 21\n",
            "\n",
            "Model Performance Comparison:\n",
            "Linear Regression    - MAE: 0.7621, RMSE: 1.2360, R²: 0.8373\n",
            "Decision Tree        - MAE: 0.4177, RMSE: 0.6001, R²: 0.9617\n",
            "Random Forest (Best) - MAE: 0.3255, RMSE: 0.5135, R²: 0.9719\n",
            "\n",
            "Best Model: Random Forest with parameters:\n",
            "Parameters: {'max_depth': 10, 'min_samples_leaf': 1, 'min_samples_split': 2, 'n_estimators': 100}\n",
            "\n",
            "Key Insights:\n",
            "- Model dapat menjelaskan 97.19% variasi dalam harga mobil bekas\n",
            "- Error rata-rata prediksi: ₹0.5135 Lakh\n",
            "- Fitur terpenting: Present_Price, Car_Age, dan Kms_Driven\n",
            "- ✅ Target tercapai: RMSE < 20% dari rata-rata harga\n"
          ]
        }
      ],
      "source": [
        "print(\"\\n\" + \"=\"*50)\n",
        "print(\"PROJECT SUMMARY\")\n",
        "print(\"=\"*50)\n",
        "\n",
        "print(f\"\\nDataset Information:\")\n",
        "print(f\"- Original dataset size: {df.shape[0]} rows, {df.shape[1]} columns\")\n",
        "print(f\"- Final dataset size: {len(df_clean)} rows\")\n",
        "print(f\"- Number of features used: {len(final_features)}\")\n",
        "\n",
        "print(f\"\\nModel Performance Comparison:\")\n",
        "print(f\"Linear Regression    - MAE: {lr_mae:.4f}, RMSE: {lr_rmse:.4f}, R²: {lr_r2:.4f}\")\n",
        "print(f\"Decision Tree        - MAE: {dt_mae:.4f}, RMSE: {dt_rmse:.4f}, R²: {dt_r2:.4f}\")\n",
        "print(f\"Random Forest (Best) - MAE: {rf_mae:.4f}, RMSE: {rf_rmse:.4f}, R²: {rf_r2:.4f}\")\n",
        "\n",
        "print(f\"\\nBest Model: Random Forest with parameters:\")\n",
        "print(f\"Parameters: {grid_search.best_params_}\")\n",
        "\n",
        "print(f\"\\nKey Insights:\")\n",
        "print(f\"- Model dapat menjelaskan {rf_r2*100:.2f}% variasi dalam harga mobil bekas\")\n",
        "print(f\"- Error rata-rata prediksi: ₹{rf_rmse:.4f} Lakh\")\n",
        "print(f\"- Fitur terpenting: Present_Price, Car_Age, dan Kms_Driven\")\n",
        "\n",
        "if rf_rmse/y.mean() < 0.2:\n",
        "    print(f\"- ✅ Target tercapai: RMSE < 20% dari rata-rata harga\")\n",
        "else:\n",
        "    print(f\"- ❌ Target belum tercapai: RMSE > 20% dari rata-rata harga\")"
      ]
    }
  ]
}